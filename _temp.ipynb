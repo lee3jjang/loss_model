{
 "cells": [
  {
   "cell_type": "code",
   "execution_count": 8,
   "metadata": {},
   "outputs": [],
   "source": [
    "import json\n",
    "import requests\n",
    "import scipy.stats\n",
    "import pandas as pd"
   ]
  },
  {
   "cell_type": "code",
   "execution_count": 3,
   "metadata": {},
   "outputs": [],
   "source": [
    "import scipy.stats\n",
    "from typing import Dict, List\n",
    "\n",
    "\n",
    "def gen_loss_scenario(freq_model:str, freq_param: Dict[str, float], sev_model: str, sev_param: Dict[str, float], exposure: float, num_scen: int) -> Dict[str, List[float]]:\n",
    "  freq = getattr(scipy.stats, freq_model)(**freq_param)\n",
    "  sev = getattr(scipy.stats, sev_model)(**sev_param)\n",
    "  num_claims_sample = freq.rvs(num_scen).tolist()\n",
    "  total_loss_sample = [sev.rvs(n).sum() for n in num_claims_sample]\n",
    "  return dict(num_claims=num_claims_sample, total_loss=total_loss_sample)\n",
    "  \n",
    "\n",
    "freq_model = 'poisson'\n",
    "freq_param = {'mu': 0.6}\n",
    "sev_model = 'gamma'\n",
    "sev_param = {'a': 1., 'loc': 0, 'scale': 1000}\n",
    "result = gen_loss_scenario(freq_model, freq_param, sev_model, sev_param, 1., 100)"
   ]
  },
  {
   "cell_type": "code",
   "execution_count": 16,
   "metadata": {},
   "outputs": [
    {
     "data": {
      "text/plain": [
       "1"
      ]
     },
     "execution_count": 16,
     "metadata": {},
     "output_type": "execute_result"
    }
   ],
   "source": [
    "['binom', 'poisson', 'nbinom'].index('poisson')"
   ]
  }
 ],
 "metadata": {
  "interpreter": {
   "hash": "5e44c50a3e1c98b95e74690f342b354af7731964c5fccc4ba56deb7c64889c24"
  },
  "kernelspec": {
   "display_name": "Python 3.9.2 64-bit",
   "language": "python",
   "name": "python3"
  },
  "language_info": {
   "codemirror_mode": {
    "name": "ipython",
    "version": 3
   },
   "file_extension": ".py",
   "mimetype": "text/x-python",
   "name": "python",
   "nbconvert_exporter": "python",
   "pygments_lexer": "ipython3",
   "version": "3.9.2"
  },
  "orig_nbformat": 4
 },
 "nbformat": 4,
 "nbformat_minor": 2
}
